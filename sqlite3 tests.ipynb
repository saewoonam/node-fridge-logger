{
 "cells": [
  {
   "cell_type": "code",
   "execution_count": 1,
   "metadata": {},
   "outputs": [],
   "source": [
    "const sqlite3 = require('better-sqlite3');\n"
   ]
  },
  {
   "cell_type": "code",
   "execution_count": 13,
   "metadata": {},
   "outputs": [],
   "source": [
    "const http = require('http');"
   ]
  },
  {
   "cell_type": "code",
   "execution_count": 2,
   "metadata": {},
   "outputs": [
    {
     "data": {
      "text/plain": [
       "Database {\n",
       "  inTransaction: false,\n",
       "  open: true,\n",
       "  memory: false,\n",
       "  readonly: false,\n",
       "  name: 'foobar.db'\n",
       "}"
      ]
     },
     "execution_count": 2,
     "metadata": {},
     "output_type": "execute_result"
    }
   ],
   "source": [
    "db = new sqlite3('foobar.db')\n"
   ]
  },
  {
   "cell_type": "code",
   "execution_count": 144,
   "metadata": {},
   "outputs": [
    {
     "ename": "SqliteError",
     "evalue": "no such table: foo",
     "output_type": "error",
     "traceback": [
      "evalmachine.<anonymous>:1",
      "stmt = db.prepare('DROP TABLE foo');",
      "          ^",
      "",
      "SqliteError: no such table: foo",
      "    at evalmachine.<anonymous>:1:11",
      "    at Script.runInThisContext (vm.js:120:18)",
      "    at Object.runInThisContext (vm.js:309:38)",
      "    at run ([eval]:1054:15)",
      "    at onRunRequest ([eval]:888:18)",
      "    at onMessage ([eval]:848:13)",
      "    at process.emit (events.js:315:20)",
      "    at emit (internal/child_process.js:876:12)",
      "    at processTicksAndRejections (internal/process/task_queues.js:85:21)"
     ]
    }
   ],
   "source": [
    "stmt = db.prepare('DROP TABLE foo');\n",
    "info = stmt.run();"
   ]
  },
  {
   "cell_type": "code",
   "execution_count": 146,
   "metadata": {},
   "outputs": [
    {
     "data": {
      "text/plain": [
       "{ changes: 0, lastInsertRowid: 3 }"
      ]
     },
     "execution_count": 146,
     "metadata": {},
     "output_type": "execute_result"
    }
   ],
   "source": [
    "sql_init = 'CREATE TABLE IF NOT EXISTS foo(_1,b);'\n",
    "stmt = db.prepare(sql_init)\n",
    "info = stmt.run()"
   ]
  },
  {
   "cell_type": "code",
   "execution_count": 4,
   "metadata": {},
   "outputs": [
    {
     "data": {
      "text/plain": [
       "{ changes: 1, lastInsertRowid: 1 }"
      ]
     },
     "execution_count": 4,
     "metadata": {},
     "output_type": "execute_result"
    }
   ],
   "source": [
    "stmt = db.prepare('INSERT INTO foo (a, b) VALUES (?, ?)');\n",
    "info = stmt.run(1, 2);\n"
   ]
  },
  {
   "cell_type": "code",
   "execution_count": 5,
   "metadata": {},
   "outputs": [
    {
     "data": {
      "text/plain": [
       "{ changes: 1, lastInsertRowid: 2 }"
      ]
     },
     "execution_count": 5,
     "metadata": {},
     "output_type": "execute_result"
    }
   ],
   "source": [
    "params = [3, 4];\n",
    "stmt = db.prepare('INSERT INTO foo (a, b) VALUES (?, ?)');\n",
    "info = stmt.run(...params)"
   ]
  },
  {
   "cell_type": "code",
   "execution_count": 209,
   "metadata": {},
   "outputs": [
    {
     "data": {
      "text/plain": [
       "{ changes: 1, lastInsertRowid: 4 }"
      ]
     },
     "execution_count": 209,
     "metadata": {},
     "output_type": "execute_result"
    }
   ],
   "source": [
    "params = [5, 6];\n",
    "stmt = db.prepare('INSERT INTO foo VALUES (8, 9)');\n",
    "info = stmt.run()"
   ]
  },
  {
   "cell_type": "code",
   "execution_count": 190,
   "metadata": {},
   "outputs": [
    {
     "data": {
      "text/plain": [
       "[ 6, 8, null ]"
      ]
     },
     "execution_count": 190,
     "metadata": {},
     "output_type": "execute_result"
    }
   ],
   "source": [
    "temp = db.prepare('SELECT b FROM foo;')\n",
    "temp.raw()\n",
    "a = temp.all()\n",
    "a = [].concat(...a)"
   ]
  },
  {
   "cell_type": "code",
   "execution_count": 194,
   "metadata": {},
   "outputs": [
    {
     "data": {
      "text/plain": [
       "'object'"
      ]
     },
     "execution_count": 194,
     "metadata": {},
     "output_type": "execute_result"
    }
   ],
   "source": [
    "typeof(a[2])"
   ]
  },
  {
   "cell_type": "code",
   "execution_count": null,
   "metadata": {},
   "outputs": [],
   "source": []
  },
  {
   "cell_type": "code",
   "execution_count": 12,
   "metadata": {},
   "outputs": [
    {
     "name": "stdout",
     "output_type": "stream",
     "text": [
      "caught error\n",
      "object\n",
      "SqliteError: table foo has 2 columns but 1 values were supplied\n",
      "    at evalmachine.<anonymous>:2:15\n",
      "    at Script.runInThisContext (vm.js:120:18)\n",
      "    at Object.runInThisContext (vm.js:309:38)\n",
      "    at run ([eval]:1054:15)\n",
      "    at onRunRequest ([eval]:888:18)\n",
      "    at onMessage ([eval]:848:13)\n",
      "    at process.emit (events.js:315:20)\n",
      "    at emit (internal/child_process.js:876:12)\n",
      "    at processTicksAndRejections (internal/process/task_queues.js:85:21)\n"
     ]
    }
   ],
   "source": [
    "try {\n",
    "    stmt = db.prepare('INSERT INTO foo VALUES (?)');\n",
    "    info = stmt.run(7);\n",
    "} catch (err) {\n",
    "    if (err.name=='SqliteError') {\n",
    "        console.log('caught error');\n",
    "    }\n",
    "    console.log(typeof(err))\n",
    "    console.log(err);\n",
    "}"
   ]
  },
  {
   "cell_type": "code",
   "execution_count": 66,
   "metadata": {},
   "outputs": [
    {
     "ename": "SyntaxError",
     "evalue": "Identifier 'url_all' has already been declared",
     "output_type": "error",
     "traceback": [
      "evalmachine.<anonymous>:1",
      "const url_all = 'http://localhost:5000/fridge/all'",
      "^",
      "",
      "SyntaxError: Identifier 'url_all' has already been declared",
      "    at evalmachine.<anonymous>:1:1",
      "    at Script.runInThisContext (vm.js:120:18)",
      "    at Object.runInThisContext (vm.js:309:38)",
      "    at run ([eval]:1054:15)",
      "    at onRunRequest ([eval]:888:18)",
      "    at onMessage ([eval]:848:13)",
      "    at process.emit (events.js:315:20)",
      "    at emit (internal/child_process.js:876:12)",
      "    at processTicksAndRejections (internal/process/task_queues.js:85:21)"
     ]
    }
   ],
   "source": [
    "const url_all = 'http://localhost:5000/fridge/all'\n",
    "const url_keys = 'http://localhost:5000/fridge/keys'\n",
    "\n",
    "function get_json(url) {\n",
    "    return new Promise((resolve, reject) => {\n",
    "        http.get(url, res => {\n",
    "            res.setEncoding('utf-8');\n",
    "            let body = ''\n",
    "            res.on(\"data\", data => {body+=data;});\n",
    "            res.on(\"end\", ()=> {\n",
    "                body = JSON.parse(body);\n",
    "                //console.log('done');\n",
    "                resolve(body)\n",
    "            });\n",
    "        });\n",
    "    });\n",
    "}\n",
    "\n"
   ]
  },
  {
   "cell_type": "code",
   "execution_count": 43,
   "metadata": {},
   "outputs": [],
   "source": [
    "function get_keys() {\n",
    "    let keys;\n",
    "    get_json(url_keys).then(res=> {\n",
    "        keys=res\n",
    "    });\n",
    "    console.log('keys', keys)\n",
    "    return keys\n",
    "}\n"
   ]
  },
  {
   "cell_type": "code",
   "execution_count": 159,
   "metadata": {},
   "outputs": [
    {
     "name": "stdout",
     "output_type": "stream",
     "text": [
      "CREATE TABLE IF NOT EXISTS fridge(Time, HR_Time, _1k, switch, pcb_1, _4k, _40k, pcb_2, out1, out_1_i, out_1_v, out_1_r, pcb_3, hp, out_2_i, out_2_v, out_2_r, pcb_4, hs, bias, aio_3, pump, dio, relays, v1, v2, v3, compressor);\n",
      "{ changes: 0, lastInsertRowid: 1 }\n"
     ]
    }
   ],
   "source": [
    "(async () => { \n",
    "    keys = await get_json(url_keys)\n",
    "    let sql_columns = keys.map(item => { \n",
    "        item = /^\\d/.test(item) ? '_'+item : item;\n",
    "        item = item.replace(/ /g, '_');\n",
    "        return item; \n",
    "    });\n",
    "    let columns = sql_columns.join(', ');\n",
    "    let table_name = 'fridge'\n",
    "    let sql_create = `CREATE TABLE IF NOT EXISTS ${table_name}(${columns});`\n",
    "    console.log(sql_create)\n",
    "    let stmt = db.prepare(sql_create)\n",
    "    let info = stmt.run();\n",
    "    console.log(info);\n",
    "})();"
   ]
  },
  {
   "cell_type": "code",
   "execution_count": 196,
   "metadata": {},
   "outputs": [
    {
     "data": {
      "text/plain": [
       "{\n",
       "  Time: '1537018190.32',\n",
       "  HR_Time: 'September 15  2018 07:29:50 AM',\n",
       "  '1k': '19.32311',\n",
       "  switch: '295.8638',\n",
       "  'pcb 1': '308',\n",
       "  '4k': '295.5218',\n",
       "  '40k': '294.4887',\n",
       "  'pcb 2': '308',\n",
       "  out1: '0.000000',\n",
       "  'out 1 i': '0.000000',\n",
       "  'out 1 v': '0.000000',\n",
       "  'out 1 r': 'NaN',\n",
       "  'pcb 3': '300.1466',\n",
       "  hp: '0.000000',\n",
       "  'out 2 i': '0.000000',\n",
       "  'out 2 v': '0.000000',\n",
       "  'out 2 r': 'NaN',\n",
       "  'pcb 4': '299.7195',\n",
       "  hs: '0.000000',\n",
       "  bias: '1.573098',\n",
       "  'aio 3': '0.999974',\n",
       "  pump: '1.573113',\n",
       "  dio: '0',\n",
       "  relays: '0',\n",
       "  v1: 'NaN',\n",
       "  v2: 'NaN',\n",
       "  v3: 'NaN',\n",
       "  compressor: '-1'\n",
       "}"
      ]
     },
     "execution_count": 196,
     "metadata": {},
     "output_type": "execute_result"
    }
   ],
   "source": [
    "all = {}\n",
    "get_json(url_all).then(res=>all = res)\n"
   ]
  },
  {
   "cell_type": "code",
   "execution_count": 212,
   "metadata": {},
   "outputs": [
    {
     "data": {
      "text/plain": [
       "\"1537018190.32, 'September 15  2018 07:29:50 AM', 19.32311, 295.8638, 308, 295.5218, 294.4887, 308, 0.000000, 0.000000, 0.000000, null, 300.1466, 0.000000, 0.000000, 0.000000, null, 299.7195, 0.000000, 1.573098, 0.999974, 1.573113, 0, 0, null, null, null, -1\""
      ]
     },
     "execution_count": 212,
     "metadata": {},
     "output_type": "execute_result"
    }
   ],
   "source": [
    "\n",
    "row = Object.values(all)\n",
    "row = row.map(item => {\n",
    "    if (item == 'NaN') {return 'null'}\n",
    "    else if (/^[0-9,-]/.test(item)) {return item}\n",
    "    else {return \"\\'\"+item+\"\\'\"}\n",
    "});\n",
    "row = row.join(', ')"
   ]
  },
  {
   "cell_type": "code",
   "execution_count": 213,
   "metadata": {},
   "outputs": [
    {
     "data": {
      "text/plain": [
       "{ changes: 1, lastInsertRowid: 1 }"
      ]
     },
     "execution_count": 213,
     "metadata": {},
     "output_type": "execute_result"
    }
   ],
   "source": [
    "row_insert = `INSERT INTO fridge VALUES(${row});`\n",
    "stmt = db.prepare(row_insert)\n",
    "info = stmt.run();"
   ]
  },
  {
   "cell_type": "code",
   "execution_count": 214,
   "metadata": {},
   "outputs": [
    {
     "data": {
      "text/plain": [
       "[\n",
       "  1537018190.32,\n",
       "  'September 15  2018 07:29:50 AM',\n",
       "  19.32311,\n",
       "  295.8638,\n",
       "  308,\n",
       "  295.5218,\n",
       "  294.4887,\n",
       "  308,\n",
       "  0,\n",
       "  0,\n",
       "  0,\n",
       "  null,\n",
       "  300.1466,\n",
       "  0,\n",
       "  0,\n",
       "  0,\n",
       "  null,\n",
       "  299.7195,\n",
       "  0,\n",
       "  1.573098,\n",
       "  0.999974,\n",
       "  1.573113,\n",
       "  0,\n",
       "  0,\n",
       "  null,\n",
       "  null,\n",
       "  null,\n",
       "  -1\n",
       "]"
      ]
     },
     "execution_count": 214,
     "metadata": {},
     "output_type": "execute_result"
    }
   ],
   "source": [
    "temp = db.prepare('SELECT * FROM fridge;')\n",
    "temp.raw()\n",
    "a = temp.all()\n",
    "a = [].concat(...a)"
   ]
  },
  {
   "cell_type": "code",
   "execution_count": 95,
   "metadata": {},
   "outputs": [
    {
     "data": {
      "text/plain": [
       "[\n",
       "  'Time',       'HR_Time', '1k',\n",
       "  'switch',     'pcb_1',   '4k',\n",
       "  '40k',        'pcb_2',   'out1',\n",
       "  'out_1_i',    'out_1_v', 'out_1_r',\n",
       "  'pcb_3',      'hp',      'out_2_i',\n",
       "  'out_2_v',    'out_2_r', 'pcb_4',\n",
       "  'hs',         'bias',    'aio_3',\n",
       "  'pump',       'dio',     'relays',\n",
       "  'v1',         'v2',      'v3',\n",
       "  'compressor'\n",
       "]"
      ]
     },
     "execution_count": 95,
     "metadata": {},
     "output_type": "execute_result"
    }
   ],
   "source": [
    "r=[];\n",
    "r = get_json(url_keys)\n",
    "r.then(res=>r=res.map(item => item.replace(/ /g, '_')))"
   ]
  },
  {
   "cell_type": "code",
   "execution_count": 97,
   "metadata": {},
   "outputs": [
    {
     "data": {
      "text/plain": [
       "'Time, HR_Time, 1k, switch, pcb_1, 4k, 40k, pcb_2, out1, out_1_i, out_1_v, out_1_r, pcb_3, hp, out_2_i, out_2_v, out_2_r, pcb_4, hs, bias, aio_3, pump, dio, relays, v1, v2, v3, compressor'"
      ]
     },
     "execution_count": 97,
     "metadata": {},
     "output_type": "execute_result"
    }
   ],
   "source": [
    "r.join(', ')"
   ]
  },
  {
   "cell_type": "code",
   "execution_count": 79,
   "metadata": {},
   "outputs": [
    {
     "data": {
      "text/plain": [
       "'[object Promise]'"
      ]
     },
     "execution_count": 79,
     "metadata": {},
     "output_type": "execute_result"
    }
   ],
   "source": [
    "k.toString()"
   ]
  },
  {
   "cell_type": "code",
   "execution_count": 70,
   "metadata": {},
   "outputs": [
    {
     "data": {
      "text/plain": [
       "[\n",
       "  'Time',       'HR_Time', '1k',\n",
       "  'switch',     'pcb 1',   '4k',\n",
       "  '40k',        'pcb 2',   'out1',\n",
       "  'out 1 i',    'out 1 v', 'out 1 r',\n",
       "  'pcb 3',      'hp',      'out 2 i',\n",
       "  'out 2 v',    'out 2 r', 'pcb 4',\n",
       "  'hs',         'bias',    'aio 3',\n",
       "  'pump',       'dio',     'relays',\n",
       "  'v1',         'v2',      'v3',\n",
       "  'compressor'\n",
       "]"
      ]
     },
     "execution_count": 70,
     "metadata": {},
     "output_type": "execute_result"
    }
   ],
   "source": [
    "r.valueOf()"
   ]
  },
  {
   "cell_type": "code",
   "execution_count": 98,
   "metadata": {},
   "outputs": [],
   "source": [
    "const fetch = require('node-fetch');\n"
   ]
  },
  {
   "cell_type": "code",
   "execution_count": 104,
   "metadata": {},
   "outputs": [
    {
     "name": "stdout",
     "output_type": "stream",
     "text": [
      "[]\n"
     ]
    }
   ],
   "source": [
    "keys = [];\n",
    "fetch(url_keys).then(res => keys = res.json())\n",
    "console.log(keys)"
   ]
  },
  {
   "cell_type": "code",
   "execution_count": 105,
   "metadata": {},
   "outputs": [
    {
     "data": {
      "text/plain": [
       "[\n",
       "  'Time',       'HR_Time', '1k',\n",
       "  'switch',     'pcb 1',   '4k',\n",
       "  '40k',        'pcb 2',   'out1',\n",
       "  'out 1 i',    'out 1 v', 'out 1 r',\n",
       "  'pcb 3',      'hp',      'out 2 i',\n",
       "  'out 2 v',    'out 2 r', 'pcb 4',\n",
       "  'hs',         'bias',    'aio 3',\n",
       "  'pump',       'dio',     'relays',\n",
       "  'v1',         'v2',      'v3',\n",
       "  'compressor'\n",
       "]"
      ]
     },
     "execution_count": 105,
     "metadata": {},
     "output_type": "execute_result"
    }
   ],
   "source": [
    "keys"
   ]
  },
  {
   "cell_type": "code",
   "execution_count": 133,
   "metadata": {},
   "outputs": [
    {
     "data": {
      "text/plain": [
       "[AsyncFunction: request]"
      ]
     },
     "execution_count": 133,
     "metadata": {},
     "output_type": "execute_result"
    }
   ],
   "source": [
    "out = [];\n",
    "request = async () => {\n",
    "    response = await fetch(url_keys);\n",
    "    json = await response.json();\n",
    "    json = json.map(item=>item.replace(/ /g,'_'))\n",
    "    console.log(json)\n",
    "    //out = json;\n",
    "}"
   ]
  },
  {
   "cell_type": "code",
   "execution_count": 134,
   "metadata": {},
   "outputs": [
    {
     "name": "stdout",
     "output_type": "stream",
     "text": [
      "[]\n",
      "[\n",
      "  'Time',       'HR_Time', '1k',\n",
      "  'switch',     'pcb_1',   '4k',\n",
      "  '40k',        'pcb_2',   'out1',\n",
      "  'out_1_i',    'out_1_v', 'out_1_r',\n",
      "  'pcb_3',      'hp',      'out_2_i',\n",
      "  'out_2_v',    'out_2_r', 'pcb_4',\n",
      "  'hs',         'bias',    'aio_3',\n",
      "  'pump',       'dio',     'relays',\n",
      "  'v1',         'v2',      'v3',\n",
      "  'compressor'\n",
      "]\n"
     ]
    }
   ],
   "source": [
    "request();\n",
    "console.log(out)"
   ]
  },
  {
   "cell_type": "code",
   "execution_count": 132,
   "metadata": {},
   "outputs": [
    {
     "data": {
      "text/plain": [
       "[\n",
       "  'Time',       'HR_Time', '1k',\n",
       "  'switch',     'pcb_1',   '4k',\n",
       "  '40k',        'pcb_2',   'out1',\n",
       "  'out_1_i',    'out_1_v', 'out_1_r',\n",
       "  'pcb_3',      'hp',      'out_2_i',\n",
       "  'out_2_v',    'out_2_r', 'pcb_4',\n",
       "  'hs',         'bias',    'aio_3',\n",
       "  'pump',       'dio',     'relays',\n",
       "  'v1',         'v2',      'v3',\n",
       "  'compressor'\n",
       "]"
      ]
     },
     "execution_count": 132,
     "metadata": {},
     "output_type": "execute_result"
    }
   ],
   "source": [
    "out"
   ]
  },
  {
   "cell_type": "code",
   "execution_count": 152,
   "metadata": {},
   "outputs": [
    {
     "data": {
      "text/plain": [
       "'1k'"
      ]
     },
     "execution_count": 152,
     "metadata": {},
     "output_type": "execute_result"
    }
   ],
   "source": [
    "keys[2]"
   ]
  },
  {
   "cell_type": "code",
   "execution_count": 153,
   "metadata": {},
   "outputs": [
    {
     "data": {
      "text/plain": [
       "true"
      ]
     },
     "execution_count": 153,
     "metadata": {},
     "output_type": "execute_result"
    }
   ],
   "source": [
    "/^\\d/.test(keys[2])"
   ]
  },
  {
   "cell_type": "code",
   "execution_count": 157,
   "metadata": {},
   "outputs": [
    {
     "data": {
      "text/plain": [
       "[\n",
       "  'Time',       'HR_Time', '_1k',\n",
       "  'switch',     'pcb_1',   '_4k',\n",
       "  '_40k',       'pcb_2',   'out1',\n",
       "  'out_1_i',    'out_1_v', 'out_1_r',\n",
       "  'pcb_3',      'hp',      'out_2_i',\n",
       "  'out_2_v',    'out_2_r', 'pcb_4',\n",
       "  'hs',         'bias',    'aio_3',\n",
       "  'pump',       'dio',     'relays',\n",
       "  'v1',         'v2',      'v3',\n",
       "  'compressor'\n",
       "]"
      ]
     },
     "execution_count": 157,
     "metadata": {},
     "output_type": "execute_result"
    }
   ],
   "source": [
    "keys.map(item => { item = /^\\d/.test(item) ? '_'+item : item;\n",
    "                  item = item.replace(/ /g, '_');\n",
    "                  return item; })"
   ]
  },
  {
   "cell_type": "code",
   "execution_count": null,
   "metadata": {},
   "outputs": [],
   "source": []
  }
 ],
 "metadata": {
  "kernelspec": {
   "display_name": "Javascript (Node.js)",
   "language": "javascript",
   "name": "javascript"
  },
  "language_info": {
   "file_extension": ".js",
   "mimetype": "application/javascript",
   "name": "javascript",
   "version": "12.18.3"
  }
 },
 "nbformat": 4,
 "nbformat_minor": 4
}
